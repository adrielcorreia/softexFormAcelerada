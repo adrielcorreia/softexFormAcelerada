{
 "cells": [
  {
   "cell_type": "code",
   "execution_count": 71,
   "id": "065fa8c7",
   "metadata": {},
   "outputs": [
    {
     "name": "stdout",
     "output_type": "stream",
     "text": [
      "<__main__.opr object at 0x00000288D1DF4940>\n",
      "Soma: 10j\n",
      "Subtração: (6-6j)\n",
      "Divisão: (0.003448275862068967-0.05862068965517241j)\n",
      "Multiplicação: (-199+97j)\n",
      "\n",
      "Números Reais: 3.0 5.0 -8.0\n",
      "Números Imaginários: 2.0 -1.0 9.0\n"
     ]
    }
   ],
   "source": [
    " class opr():\n",
    "    \n",
    "    def __init__(self, n1, n2, n3):\n",
    "        self.a = n1\n",
    "        self.b = n2\n",
    "        self.c = n3\n",
    "        \n",
    "        self.soma = n1+n2+n3\n",
    "        self.sub = n1-n2-n3\n",
    "        self.div = n1/n2/n3\n",
    "        self.mult = n1*n2*n3\n",
    "          \n",
    "result = opr(3+2j, 5-1j, -8+9j)\n",
    "\n",
    "print(\"Soma:\", result.soma)\n",
    "print(\"Subtração:\", result.sub)\n",
    "print(\"Divisão:\", result.div)\n",
    "print(\"Multiplicação:\", result.mult)\n",
    "print('')\n",
    "print(\"Números Reais:\", result.a.real, result.b.real, result.c.real)\n",
    "print(\"Números Imaginários:\", result.a.imag, result.b.imag, result.c.imag)"
   ]
  },
  {
   "cell_type": "code",
   "execution_count": null,
   "id": "fb1c3146",
   "metadata": {},
   "outputs": [],
   "source": []
  },
  {
   "cell_type": "code",
   "execution_count": null,
   "id": "f07e51fc",
   "metadata": {},
   "outputs": [],
   "source": []
  }
 ],
 "metadata": {
  "kernelspec": {
   "display_name": "Python 3 (ipykernel)",
   "language": "python",
   "name": "python3"
  },
  "language_info": {
   "codemirror_mode": {
    "name": "ipython",
    "version": 3
   },
   "file_extension": ".py",
   "mimetype": "text/x-python",
   "name": "python",
   "nbconvert_exporter": "python",
   "pygments_lexer": "ipython3",
   "version": "3.9.12"
  }
 },
 "nbformat": 4,
 "nbformat_minor": 5
}

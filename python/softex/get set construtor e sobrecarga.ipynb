{
 "cells": [
  {
   "cell_type": "code",
   "execution_count": 72,
   "id": "e7dc9baa",
   "metadata": {},
   "outputs": [
    {
     "name": "stdout",
     "output_type": "stream",
     "text": [
      "0\n",
      "Hunter\n",
      "Já usado.\n",
      "Hunter\n",
      "Lord of Hunt\n"
     ]
    }
   ],
   "source": [
    "class player():\n",
    "    def __init__(self, name, Id):\n",
    "        self.name = name\n",
    "        self._Id = Id #privando a variável id\n",
    "        \n",
    "    def get_id(self):    #get\n",
    "        return self._Id\n",
    "    \n",
    "    def get_name(self):  #get\n",
    "        return self.name\n",
    "    \n",
    "    def set_name(self, newName):  #setando o nome do player com construtor, n entendi direito mas acho q era pra ser assim\n",
    "        if (newName == 'Hircine'):\n",
    "            print('Já usado.')\n",
    "        else:\n",
    "            self.name = newName\n",
    "            return self.name\n",
    "    \n",
    "ghost = player('GhostFace', 0)\n",
    "bro = player('Hunter', 1)\n",
    "\n",
    "#printando o id do player 'ghost' (que é privado), usando o get\n",
    "print(ghost.get_id()) \n",
    "\n",
    "#printando o nome do player 'bro'\n",
    "print(bro.get_name()) \n",
    "\n",
    "#mudando o nome do player 2, o bro, no qual n vai dar certo por causa da condição q existe lá em cima\n",
    "bro.set_name('Hircine') \n",
    "\n",
    "#printando o nome após a alteração, q n ocorre a alteração\n",
    "print(bro.get_name()) \n",
    "\n",
    "#mudando o nome do player 2 novamente, agora funcionando\n",
    "bro.set_name('Lord of Hunt')\n",
    "print(bro.get_name())"
   ]
  }
 ],
 "metadata": {
  "kernelspec": {
   "display_name": "Python 3 (ipykernel)",
   "language": "python",
   "name": "python3"
  },
  "language_info": {
   "codemirror_mode": {
    "name": "ipython",
    "version": 3
   },
   "file_extension": ".py",
   "mimetype": "text/x-python",
   "name": "python",
   "nbconvert_exporter": "python",
   "pygments_lexer": "ipython3",
   "version": "3.9.12"
  }
 },
 "nbformat": 4,
 "nbformat_minor": 5
}

{
 "cells": [
  {
   "cell_type": "code",
   "execution_count": 24,
   "id": "45719eec",
   "metadata": {},
   "outputs": [
    {
     "name": "stdout",
     "output_type": "stream",
     "text": [
      "Qual jogo você quer instalar no seu XBOX Series X? God of War\n",
      "Quer parar de instalar jogos? [1 - Sim] [2 - Não] 1\n",
      "Qual jogo você quer instalar no seu PS5? GTA V\n",
      "Quer parar de instalar jogos? [1 - Sim] [2 - Não] 1\n",
      "Qual jogo você quer instalar no seu NINTENDO? Mario\n",
      "Quer parar de instalar jogos? [1 - Sim] [2 - Não] 1\n",
      "\n",
      "1 ['God of War']\n",
      "1 ['GTA V']\n",
      "1 ['Mario']\n"
     ]
    }
   ],
   "source": [
    "class Console():\n",
    "    def __init__(self, model):\n",
    "        self.games_qnt = 0\n",
    "        self.game_names = []\n",
    "        self.model = model\n",
    "        \n",
    "    def install_game(self, game_name):\n",
    "        self.games_qnt += 1\n",
    "        self.game_names.append(game_name)\n",
    "        \n",
    "xbox = Console('Xbox Series X')\n",
    "ps5 = Console('PS5')\n",
    "nintendo = Console('Nintendo Switch')\n",
    "\n",
    "while True:\n",
    "    game = input('Qual jogo você quer instalar no seu Xbox Series X? ')\n",
    "    xbox.install_game(game)\n",
    "    stop = int(input('Quer parar de instalar jogos? [1 - Sim] [2 - Não] '))\n",
    "    if stop == 1:\n",
    "        break\n",
    "        stop = 0\n",
    "\n",
    "while True:\n",
    "    game = input('Qual jogo você quer instalar no seu PS5? ')\n",
    "    ps5.install_game(game)\n",
    "    stop = int(input('Quer parar de instalar jogos? [1 - Sim] [2 - Não] '))\n",
    "    if stop == 1:\n",
    "        break\n",
    "        stop = 0,\n",
    "        \n",
    "while True:\n",
    "    game = input('Qual jogo você quer instalar no seu Nintendo? ')\n",
    "    nintendo.install_game(game)\n",
    "    stop = int(input('Quer parar de instalar jogos? [1 - Sim] [2 - Não] '))\n",
    "    if stop == 1:\n",
    "        break\n",
    "\n",
    "print('')\n",
    "print(xbox.games_qnt, xbox.game_names)\n",
    "print(ps5.games_qnt, ps5.game_names)\n",
    "print(nintendo.games_qnt, nintendo.game_names)"
   ]
  },
  {
   "cell_type": "code",
   "execution_count": null,
   "id": "ede1afcb",
   "metadata": {},
   "outputs": [],
   "source": []
  }
 ],
 "metadata": {
  "kernelspec": {
   "display_name": "Python 3 (ipykernel)",
   "language": "python",
   "name": "python3"
  },
  "language_info": {
   "codemirror_mode": {
    "name": "ipython",
    "version": 3
   },
   "file_extension": ".py",
   "mimetype": "text/x-python",
   "name": "python",
   "nbconvert_exporter": "python",
   "pygments_lexer": "ipython3",
   "version": "3.9.12"
  }
 },
 "nbformat": 4,
 "nbformat_minor": 5
}

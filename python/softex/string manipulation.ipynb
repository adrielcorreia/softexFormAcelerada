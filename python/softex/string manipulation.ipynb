{
 "cells": [
  {
   "cell_type": "code",
   "execution_count": 10,
   "id": "87802209",
   "metadata": {},
   "outputs": [
    {
     "name": "stdout",
     "output_type": "stream",
     "text": [
      "frase: hello world\n",
      "comprimento: 11\n"
     ]
    }
   ],
   "source": [
    "txt = \"hello world\"\n",
    "txt_compr = len(txt)\n",
    "\n",
    "print(f'frase: {txt}')\n",
    "print(f'comprimento: {txt_compr}')"
   ]
  },
  {
   "cell_type": "code",
   "execution_count": 11,
   "id": "f2021fe3",
   "metadata": {},
   "outputs": [
    {
     "name": "stdout",
     "output_type": "stream",
     "text": [
      "frase: hello world 2\n",
      "maísculo: HELLO WORLD 2\n"
     ]
    }
   ],
   "source": [
    "txt = \"hello world 2\"\n",
    "txt_upper = txt.upper()\n",
    "\n",
    "print(f'frase: {txt}')\n",
    "print(f'maísculo: {txt_upper}')"
   ]
  },
  {
   "cell_type": "code",
   "execution_count": 13,
   "id": "f84b60dc",
   "metadata": {},
   "outputs": [
    {
     "name": "stdout",
     "output_type": "stream",
     "text": [
      "frase: HEllo WOrld 2\n",
      "maísculo: hello world 2\n"
     ]
    }
   ],
   "source": [
    "txt = \"hELLo WOrld 2\"\n",
    "txt_lower = txt.lower()\n",
    "\n",
    "print(f'frase: {txt}')\n",
    "print(f'maísculo: {txt_lower}')"
   ]
  }
 ],
 "metadata": {
  "kernelspec": {
   "display_name": "Python 3 (ipykernel)",
   "language": "python",
   "name": "python3"
  },
  "language_info": {
   "codemirror_mode": {
    "name": "ipython",
    "version": 3
   },
   "file_extension": ".py",
   "mimetype": "text/x-python",
   "name": "python",
   "nbconvert_exporter": "python",
   "pygments_lexer": "ipython3",
   "version": "3.9.12"
  }
 },
 "nbformat": 4,
 "nbformat_minor": 5
}
